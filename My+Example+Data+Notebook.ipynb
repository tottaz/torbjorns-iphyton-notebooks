{
 "cells": [
  {
   "cell_type": "markdown",
   "metadata": {},
   "source": [
    "# Bay Area Bike Share Trips Data\n",
    "\n",
    "This sample notebook demonstrates working with Google BigQuery datasets.\n",
    "\n",
    "The sample data used in this notebook shares the same schema as the Bay Area Bike Share Trips Data. It is also small in size. This notebook demonstrates one possible custom analytics scenario.\n"
   ]
  },
  {
   "cell_type": "markdown",
   "metadata": {},
   "source": [
    "## First we have to define the use of bigquery"
   ]
  },
  {
   "cell_type": "code",
   "execution_count": 37,
   "metadata": {
    "collapsed": true
   },
   "outputs": [],
   "source": [
    "import google.datalab.bigquery as bq"
   ]
  },
  {
   "cell_type": "markdown",
   "metadata": {},
   "source": [
    "# Understand the data structure\n",
    "It's helpful to inspect schema and a sample of the data we're working with"
   ]
  },
  {
   "cell_type": "code",
   "execution_count": 38,
   "metadata": {
    "collapsed": false
   },
   "outputs": [
    {
     "data": {
      "text/html": [
       "\n",
       "    <div class=\"bqsv\" id=\"11_151759041311\"></div>\n",
       "    <script src=\"/static/components/requirejs/require.js\"></script>\n",
       "    <script>\n",
       "      require.config({\n",
       "        paths: {\n",
       "          base: '/static/base',\n",
       "        },\n",
       "        map: {\n",
       "          '*': {\n",
       "            datalab: 'nbextensions/gcpdatalab'\n",
       "          }\n",
       "        },\n",
       "      });\n",
       "\n",
       "      require(['datalab/bigquery', 'datalab/element!11_151759041311',\n",
       "          'datalab/style!/nbextensions/gcpdatalab/bigquery.css'],\n",
       "        function(bq, dom) {\n",
       "          bq.renderSchema(dom, [{\"description\": \"Numeric ID of bike trip\", \"type\": \"INTEGER\", \"name\": \"trip_id\", \"mode\": \"REQUIRED\"}, {\"description\": \"Time of trip in seconds\", \"type\": \"INTEGER\", \"name\": \"duration_sec\", \"mode\": \"NULLABLE\"}, {\"description\": \"Start date of trip with date and time, in PST\", \"type\": \"TIMESTAMP\", \"name\": \"start_date\", \"mode\": \"NULLABLE\"}, {\"description\": \"Station name of start station\", \"type\": \"STRING\", \"name\": \"start_station_name\", \"mode\": \"NULLABLE\"}, {\"description\": \"Numeric reference for start station\", \"type\": \"INTEGER\", \"name\": \"start_station_id\", \"mode\": \"NULLABLE\"}, {\"description\": \"End date of trip with date and time, in PST\", \"type\": \"TIMESTAMP\", \"name\": \"end_date\", \"mode\": \"NULLABLE\"}, {\"description\": \"Station name for end station\", \"type\": \"STRING\", \"name\": \"end_station_name\", \"mode\": \"NULLABLE\"}, {\"description\": \"Numeric reference for end station\", \"type\": \"INTEGER\", \"name\": \"end_station_id\", \"mode\": \"NULLABLE\"}, {\"description\": \"ID of bike used\", \"type\": \"INTEGER\", \"name\": \"bike_number\", \"mode\": \"NULLABLE\"}, {\"description\": \"Home zip code of subscriber (customers can choose to manually enter zip at kiosk however data is unreliable)\", \"type\": \"STRING\", \"name\": \"zip_code\", \"mode\": \"NULLABLE\"}, {\"description\": \"Subscriber = annual or 30-day member; Customer = 24-hour or 3-day member\", \"type\": \"STRING\", \"name\": \"subscriber_type\", \"mode\": \"NULLABLE\"}]);\n",
       "        }\n",
       "      );\n",
       "    </script>\n",
       "    "
      ],
      "text/plain": [
       "<IPython.core.display.HTML object>"
      ]
     },
     "execution_count": 38,
     "metadata": {},
     "output_type": "execute_result"
    }
   ],
   "source": [
    "%%bq tables describe -n \"bigquery-public-data.san_francisco.bikeshare_trips\""
   ]
  },
  {
   "cell_type": "code",
   "execution_count": 39,
   "metadata": {
    "collapsed": false
   },
   "outputs": [],
   "source": [
    "%%bq query -n cyclesharing\n",
    "#standardSQL\n",
    "SELECT\n",
    "  EXTRACT(YEAR FROM start_date) AS year,\n",
    "  ROUND(AVG(duration_sec/60), 2) AS avg_duration_min,\n",
    "  COUNT(*) AS yearly_trips\n",
    "FROM\n",
    "  `bigquery-public-data.san_francisco.bikeshare_trips`\n",
    "GROUP BY\n",
    "  YEAR\n",
    "ORDER BY\n",
    "  YEAR DESC\n"
   ]
  },
  {
   "cell_type": "markdown",
   "metadata": {},
   "source": [
    "# How long was the average ride length each year?\n",
    "\n"
   ]
  },
  {
   "cell_type": "code",
   "execution_count": 40,
   "metadata": {
    "collapsed": false
   },
   "outputs": [
    {
     "data": {
      "text/html": [
       "\n",
       "    <div class=\"bqtv\" id=\"12_151759041475\"><table><tr><th>year</th><th>avg_duration_min</th><th>yearly_trips</th></tr><tr><td>2016</td><td>13.82</td><td>210494</td></tr><tr><td>2015</td><td>15.68</td><td>346252</td></tr><tr><td>2014</td><td>18.87</td><td>326339</td></tr><tr><td>2013</td><td>21.97</td><td>100563</td></tr></table></div>\n",
       "    <br />(rows: 4, time: 0.4s, cached, job: job_8ZrhnaOd2ny3FzKgCiszJ4OZD4Sn)<br />\n",
       "    <script src=\"/static/components/requirejs/require.js\"></script>\n",
       "    <script>\n",
       "      require.config({\n",
       "        paths: {\n",
       "          base: '/static/base',\n",
       "          d3: '//cdnjs.cloudflare.com/ajax/libs/d3/3.4.13/d3',\n",
       "          plotly: 'https://cdn.plot.ly/plotly-1.5.1.min.js?noext',\n",
       "          jquery: '//ajax.googleapis.com/ajax/libs/jquery/2.0.0/jquery.min'\n",
       "        },\n",
       "        map: {\n",
       "          '*': {\n",
       "            datalab: 'nbextensions/gcpdatalab'\n",
       "          }\n",
       "        },\n",
       "        shim: {\n",
       "          plotly: {\n",
       "            deps: ['d3', 'jquery'],\n",
       "            exports: 'plotly'\n",
       "          }\n",
       "        }\n",
       "      });\n",
       "\n",
       "      require(['datalab/charting', 'datalab/element!12_151759041475', 'base/js/events',\n",
       "          'datalab/style!/nbextensions/gcpdatalab/charting.css'],\n",
       "        function(charts, dom, events) {\n",
       "          charts.render('gcharts', dom, events, 'table', [], {\"rows\": [{\"c\": [{\"v\": 2016}, {\"v\": 13.82}, {\"v\": 210494}]}, {\"c\": [{\"v\": 2015}, {\"v\": 15.68}, {\"v\": 346252}]}, {\"c\": [{\"v\": 2014}, {\"v\": 18.87}, {\"v\": 326339}]}, {\"c\": [{\"v\": 2013}, {\"v\": 21.97}, {\"v\": 100563}]}], \"cols\": [{\"type\": \"number\", \"id\": \"year\", \"label\": \"year\"}, {\"type\": \"number\", \"id\": \"avg_duration_min\", \"label\": \"avg_duration_min\"}, {\"type\": \"number\", \"id\": \"yearly_trips\", \"label\": \"yearly_trips\"}]},\n",
       "            {\n",
       "              pageSize: 25,\n",
       "              cssClassNames:  {\n",
       "                tableRow: 'gchart-table-row',\n",
       "                headerRow: 'gchart-table-headerrow',\n",
       "                oddTableRow: 'gchart-table-oddrow',\n",
       "                selectedTableRow: 'gchart-table-selectedrow',\n",
       "                hoverTableRow: 'gchart-table-hoverrow',\n",
       "                tableCell: 'gchart-table-cell',\n",
       "                headerCell: 'gchart-table-headercell',\n",
       "                rowNumberCell: 'gchart-table-rownumcell'\n",
       "              }\n",
       "            },\n",
       "            {source_index: 1, fields: 'year,avg_duration_min,yearly_trips'},\n",
       "            0,\n",
       "            4);\n",
       "        }\n",
       "      );\n",
       "    </script>\n",
       "  "
      ],
      "text/plain": [
       "QueryResultsTable job_8ZrhnaOd2ny3FzKgCiszJ4OZD4Sn"
      ]
     },
     "execution_count": 40,
     "metadata": {},
     "output_type": "execute_result"
    }
   ],
   "source": [
    "%%bq execute -q cyclesharing"
   ]
  },
  {
   "cell_type": "code",
   "execution_count": 41,
   "metadata": {
    "collapsed": false
   },
   "outputs": [
    {
     "data": {
      "text/html": [
       "\n",
       "    <div class=\"bqgc-container\">\n",
       "      \n",
       "      <div class=\"bqgc \" id=\"6_151759041494\">\n",
       "      </div>\n",
       "    </div>\n",
       "    <script src=\"/static/components/requirejs/require.js\"></script>\n",
       "    <script>\n",
       "\n",
       "      require.config({\n",
       "        paths: {\n",
       "          base: '/static/base',\n",
       "          d3: '//cdnjs.cloudflare.com/ajax/libs/d3/3.4.13/d3',\n",
       "          plotly: 'https://cdn.plot.ly/plotly-1.5.1.min.js?noext',\n",
       "          jquery: '//ajax.googleapis.com/ajax/libs/jquery/2.0.0/jquery.min'\n",
       "        },\n",
       "        map: {\n",
       "          '*': {\n",
       "            datalab: 'nbextensions/gcpdatalab'\n",
       "          }\n",
       "        },\n",
       "        shim: {\n",
       "          plotly: {\n",
       "            deps: ['d3', 'jquery'],\n",
       "            exports: 'plotly'\n",
       "          }\n",
       "        }\n",
       "      });\n",
       "\n",
       "      require(['datalab/charting',\n",
       "               'datalab/element!6_151759041494',\n",
       "               'base/js/events',\n",
       "               'datalab/style!/nbextensions/gcpdatalab/charting.css'\n",
       "              ],\n",
       "        function(charts, dom, events) {\n",
       "          charts.render(\n",
       "              'gcharts',\n",
       "              dom,\n",
       "              events,\n",
       "              'columns',\n",
       "              [],\n",
       "              {\"rows\": [{\"c\": [{\"v\": 2016}, {\"v\": 210494}]}, {\"c\": [{\"v\": 2015}, {\"v\": 346252}]}, {\"c\": [{\"v\": 2014}, {\"v\": 326339}]}, {\"c\": [{\"v\": 2013}, {\"v\": 100563}]}], \"cols\": [{\"type\": \"number\", \"id\": \"year\", \"label\": \"year\"}, {\"type\": \"number\", \"id\": \"yearly_trips\", \"label\": \"yearly_trips\"}]},\n",
       "              {},\n",
       "              {\"fields\": \"year,yearly_trips\", \"source_index\": 0, \"name\": 0},\n",
       "              0,\n",
       "              4);\n",
       "          }\n",
       "        );\n",
       "    </script>\n",
       "  "
      ],
      "text/plain": [
       "<IPython.core.display.HTML object>"
      ]
     },
     "execution_count": 41,
     "metadata": {},
     "output_type": "execute_result"
    },
    {
     "data": {
      "image/png": "[encoded data removed]"
     },
     "metadata": {
      "source_id": "6_151759041494"
     },
     "output_type": "display_data"
    }
   ],
   "source": [
    "%%chart columns --data cyclesharing --fields year,yearly_trips"
   ]
  },
  {
   "cell_type": "markdown",
   "metadata": {},
   "source": [
    "# Another Example\n",
    "\n",
    "I'm going to use some GitHub data From Google's Public Datasets to find some intresting details for the most popular programming language for 2016 by number of commits, icluding weekdays and weekends"
   ]
  },
  {
   "cell_type": "code",
   "execution_count": 46,
   "metadata": {
    "collapsed": false
   },
   "outputs": [
    {
     "data": {
      "text/html": [
       "\n",
       "    <div class=\"bqsv\" id=\"15_151759049649\"></div>\n",
       "    <script src=\"/static/components/requirejs/require.js\"></script>\n",
       "    <script>\n",
       "      require.config({\n",
       "        paths: {\n",
       "          base: '/static/base',\n",
       "        },\n",
       "        map: {\n",
       "          '*': {\n",
       "            datalab: 'nbextensions/gcpdatalab'\n",
       "          }\n",
       "        },\n",
       "      });\n",
       "\n",
       "      require(['datalab/bigquery', 'datalab/element!15_151759049649',\n",
       "          'datalab/style!/nbextensions/gcpdatalab/bigquery.css'],\n",
       "        function(bq, dom) {\n",
       "          bq.renderSchema(dom, [{\"type\": \"INTEGER\", \"name\": \"id\"}, {\"type\": \"STRING\", \"name\": \"sha\"}, {\"type\": \"INTEGER\", \"name\": \"author_id\"}, {\"type\": \"INTEGER\", \"name\": \"committer_id\"}, {\"type\": \"INTEGER\", \"name\": \"project_id\"}, {\"type\": \"TIMESTAMP\", \"name\": \"created_at\"}]);\n",
       "        }\n",
       "      );\n",
       "    </script>\n",
       "    "
      ],
      "text/plain": [
       "<IPython.core.display.HTML object>"
      ]
     },
     "execution_count": 46,
     "metadata": {},
     "output_type": "execute_result"
    }
   ],
   "source": [
    "%%bq tables describe -n \"ghtorrent-bq.ght_2017_01_19.commits\""
   ]
  },
  {
   "cell_type": "markdown",
   "metadata": {},
   "source": [
    "I previous code instruction - I have described the table that we are using"
   ]
  },
  {
   "cell_type": "code",
   "execution_count": 50,
   "metadata": {
    "collapsed": true
   },
   "outputs": [],
   "source": [
    "%%bq query -n github\n",
    "#standardSQL\n",
    "WITH\n",
    "  commits AS (\n",
    "  SELECT\n",
    "    author.email,\n",
    "    EXTRACT(DAYOFWEEK\n",
    "    FROM\n",
    "      author.date) BETWEEN 2\n",
    "    AND 6 is_weekday,\n",
    "    LOWER(REGEXP_EXTRACT(diff.new_path, r'\\.([^\\./\\(~_ \\- #]*)$')) lang,\n",
    "    diff.new_path AS path,\n",
    "    author.date\n",
    "  FROM\n",
    "    `bigquery-public-data.github_repos.commits`,\n",
    "    UNNEST(difference) diff\n",
    "  WHERE\n",
    "    EXTRACT(YEAR\n",
    "    FROM\n",
    "      author.date)=2016)\n",
    "SELECT\n",
    "  lang,\n",
    "  is_weekday,\n",
    "  COUNT(path) AS numcommits\n",
    "FROM\n",
    "  commits\n",
    "WHERE\n",
    "  LENGTH(lang) < 8\n",
    "  AND lang IS NOT NULL\n",
    "  AND REGEXP_CONTAINS(lang, '[a-zA-Z]')\n",
    "GROUP BY\n",
    "  lang,\n",
    "  is_weekday\n",
    "HAVING\n",
    "  numcommits > 100\n",
    "ORDER BY\n",
    "  numcommits DESC\n",
    "Limit 10"
   ]
  },
  {
   "cell_type": "code",
   "execution_count": 51,
   "metadata": {
    "collapsed": false
   },
   "outputs": [
    {
     "data": {
      "text/html": [
       "\n",
       "    <div class=\"bqtv\" id=\"17_151759069710\"><table><tr><th>lang</th><th>is_weekday</th><th>numcommits</th></tr><tr><td>js</td><td>True</td><td>95358197</td></tr><tr><td>png</td><td>True</td><td>39617916</td></tr><tr><td>php</td><td>True</td><td>35771118</td></tr><tr><td>js</td><td>False</td><td>28474938</td></tr><tr><td>html</td><td>True</td><td>25110806</td></tr><tr><td>json</td><td>True</td><td>24644155</td></tr><tr><td>java</td><td>True</td><td>22974597</td></tr><tr><td>h</td><td>True</td><td>22266389</td></tr><tr><td>c</td><td>True</td><td>19009225</td></tr><tr><td>md</td><td>True</td><td>17296339</td></tr></table></div>\n",
       "    <br />(rows: 10, time: 8.6s,   181GB processed, job: job_-q1y_y_GmwmB7Ho-0_GOXtN2R78M)<br />\n",
       "    <script src=\"/static/components/requirejs/require.js\"></script>\n",
       "    <script>\n",
       "      require.config({\n",
       "        paths: {\n",
       "          base: '/static/base',\n",
       "          d3: '//cdnjs.cloudflare.com/ajax/libs/d3/3.4.13/d3',\n",
       "          plotly: 'https://cdn.plot.ly/plotly-1.5.1.min.js?noext',\n",
       "          jquery: '//ajax.googleapis.com/ajax/libs/jquery/2.0.0/jquery.min'\n",
       "        },\n",
       "        map: {\n",
       "          '*': {\n",
       "            datalab: 'nbextensions/gcpdatalab'\n",
       "          }\n",
       "        },\n",
       "        shim: {\n",
       "          plotly: {\n",
       "            deps: ['d3', 'jquery'],\n",
       "            exports: 'plotly'\n",
       "          }\n",
       "        }\n",
       "      });\n",
       "\n",
       "      require(['datalab/charting', 'datalab/element!17_151759069710', 'base/js/events',\n",
       "          'datalab/style!/nbextensions/gcpdatalab/charting.css'],\n",
       "        function(charts, dom, events) {\n",
       "          charts.render('gcharts', dom, events, 'table', [], {\"rows\": [{\"c\": [{\"v\": \"js\"}, {\"v\": true}, {\"v\": 95358197}]}, {\"c\": [{\"v\": \"png\"}, {\"v\": true}, {\"v\": 39617916}]}, {\"c\": [{\"v\": \"php\"}, {\"v\": true}, {\"v\": 35771118}]}, {\"c\": [{\"v\": \"js\"}, {\"v\": false}, {\"v\": 28474938}]}, {\"c\": [{\"v\": \"html\"}, {\"v\": true}, {\"v\": 25110806}]}, {\"c\": [{\"v\": \"json\"}, {\"v\": true}, {\"v\": 24644155}]}, {\"c\": [{\"v\": \"java\"}, {\"v\": true}, {\"v\": 22974597}]}, {\"c\": [{\"v\": \"h\"}, {\"v\": true}, {\"v\": 22266389}]}, {\"c\": [{\"v\": \"c\"}, {\"v\": true}, {\"v\": 19009225}]}, {\"c\": [{\"v\": \"md\"}, {\"v\": true}, {\"v\": 17296339}]}], \"cols\": [{\"type\": \"string\", \"id\": \"lang\", \"label\": \"lang\"}, {\"type\": \"boolean\", \"id\": \"is_weekday\", \"label\": \"is_weekday\"}, {\"type\": \"number\", \"id\": \"numcommits\", \"label\": \"numcommits\"}]},\n",
       "            {\n",
       "              pageSize: 25,\n",
       "              cssClassNames:  {\n",
       "                tableRow: 'gchart-table-row',\n",
       "                headerRow: 'gchart-table-headerrow',\n",
       "                oddTableRow: 'gchart-table-oddrow',\n",
       "                selectedTableRow: 'gchart-table-selectedrow',\n",
       "                hoverTableRow: 'gchart-table-hoverrow',\n",
       "                tableCell: 'gchart-table-cell',\n",
       "                headerCell: 'gchart-table-headercell',\n",
       "                rowNumberCell: 'gchart-table-rownumcell'\n",
       "              }\n",
       "            },\n",
       "            {source_index: 3, fields: 'lang,is_weekday,numcommits'},\n",
       "            0,\n",
       "            10);\n",
       "        }\n",
       "      );\n",
       "    </script>\n",
       "  "
      ],
      "text/plain": [
       "QueryResultsTable job_-q1y_y_GmwmB7Ho-0_GOXtN2R78M"
      ]
     },
     "execution_count": 51,
     "metadata": {},
     "output_type": "execute_result"
    }
   ],
   "source": [
    "%%bq execute -q github"
   ]
  },
  {
   "cell_type": "code",
   "execution_count": 52,
   "metadata": {
    "collapsed": false
   },
   "outputs": [
    {
     "data": {
      "text/html": [
       "\n",
       "    <div class=\"bqgc-container\">\n",
       "      \n",
       "      <div class=\"bqgc \" id=\"9_151759070583\">\n",
       "      </div>\n",
       "    </div>\n",
       "    <script src=\"/static/components/requirejs/require.js\"></script>\n",
       "    <script>\n",
       "\n",
       "      require.config({\n",
       "        paths: {\n",
       "          base: '/static/base',\n",
       "          d3: '//cdnjs.cloudflare.com/ajax/libs/d3/3.4.13/d3',\n",
       "          plotly: 'https://cdn.plot.ly/plotly-1.5.1.min.js?noext',\n",
       "          jquery: '//ajax.googleapis.com/ajax/libs/jquery/2.0.0/jquery.min'\n",
       "        },\n",
       "        map: {\n",
       "          '*': {\n",
       "            datalab: 'nbextensions/gcpdatalab'\n",
       "          }\n",
       "        },\n",
       "        shim: {\n",
       "          plotly: {\n",
       "            deps: ['d3', 'jquery'],\n",
       "            exports: 'plotly'\n",
       "          }\n",
       "        }\n",
       "      });\n",
       "\n",
       "      require(['datalab/charting',\n",
       "               'datalab/element!9_151759070583',\n",
       "               'base/js/events',\n",
       "               'datalab/style!/nbextensions/gcpdatalab/charting.css'\n",
       "              ],\n",
       "        function(charts, dom, events) {\n",
       "          charts.render(\n",
       "              'gcharts',\n",
       "              dom,\n",
       "              events,\n",
       "              'columns',\n",
       "              [],\n",
       "              {\"rows\": [{\"c\": [{\"v\": \"js\"}, {\"v\": 95358197}]}, {\"c\": [{\"v\": \"png\"}, {\"v\": 39617916}]}, {\"c\": [{\"v\": \"php\"}, {\"v\": 35771118}]}, {\"c\": [{\"v\": \"js\"}, {\"v\": 28474938}]}, {\"c\": [{\"v\": \"html\"}, {\"v\": 25110806}]}, {\"c\": [{\"v\": \"json\"}, {\"v\": 24644155}]}, {\"c\": [{\"v\": \"java\"}, {\"v\": 22974597}]}, {\"c\": [{\"v\": \"h\"}, {\"v\": 22266389}]}, {\"c\": [{\"v\": \"c\"}, {\"v\": 19009225}]}, {\"c\": [{\"v\": \"md\"}, {\"v\": 17296339}]}], \"cols\": [{\"type\": \"string\", \"id\": \"lang\", \"label\": \"lang\"}, {\"type\": \"number\", \"id\": \"numcommits\", \"label\": \"numcommits\"}]},\n",
       "              {},\n",
       "              {\"fields\": \"lang,numcommits\", \"source_index\": 1, \"name\": 1},\n",
       "              0,\n",
       "              10);\n",
       "          }\n",
       "        );\n",
       "    </script>\n",
       "  "
      ],
      "text/plain": [
       "<IPython.core.display.HTML object>"
      ]
     },
     "execution_count": 52,
     "metadata": {},
     "output_type": "execute_result"
    },
    {
     "data": {
      "image/png": "[encoded data removed]"
     },
     "metadata": {
      "source_id": "9_151759070583"
     },
     "output_type": "display_data"
    }
   ],
   "source": [
    "%%chart columns --data github --fields lang,numcommits"
   ]
  },
  {
   "cell_type": "code",
   "execution_count": null,
   "metadata": {
    "collapsed": true
   },
   "outputs": [],
   "source": []
  },
  {
   "cell_type": "code",
   "execution_count": null,
   "metadata": {
    "collapsed": true
   },
   "outputs": [],
   "source": []
  },
  {
   "cell_type": "code",
   "execution_count": 54,
   "metadata": {
    "codeCollapsed": true,
    "collapsed": false,
    "hiddenCell": true
   },
   "outputs": [],
   "source": [
    "# Testing out a notebook with two examples\n",
    "## Notebook example one\n",
    "## Looking at bikesharing data"
   ]
  },
  {
   "cell_type": "markdown",
   "metadata": {},
   "source": []
  }
 ],
 "metadata": {
  "kernelspec": {
   "display_name": "Python 2",
   "language": "python",
   "name": "python2"
  },
  "language_info": {
   "codemirror_mode": {
    "name": "ipython",
    "version": 2
   },
   "file_extension": ".py",
   "mimetype": "text/x-python",
   "name": "python",
   "nbconvert_exporter": "python",
   "pygments_lexer": "ipython2",
   "version": "2.7.12"
  }
 },
 "nbformat": 4,
 "nbformat_minor": 2
}
